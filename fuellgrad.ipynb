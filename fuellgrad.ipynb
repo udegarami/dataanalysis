{
 "cells": [
  {
   "cell_type": "markdown",
   "metadata": {},
   "source": [
    "# 📊 Einführung in Python, Pandas und Matplotlib mit dem Füllungsgrad der Schweizer Speicherseen\n",
    "\n",
    "In diesem Notebook analysieren wir den Füllungsgrad der Schweizer Speicherseen mithilfe von Pandas und Matplotlib.\n",
    "\n",
    "---"
   ]
  },
  {
   "cell_type": "code",
   "execution_count": null,
   "metadata": {},
   "outputs": [],
   "source": [
    "# 🚀 Erste Schritte: Bibliotheken importieren\n",
    "import pandas as pd\n",
    "import matplotlib.pyplot as plt\n",
    "import seaborn as sns  # Für schönere Visualisierungen\n",
    "\n",
    "# Stil für Matplotlib einstellen (optional)\n",
    "sns.set_theme()"
   ]
  },
  {
   "cell_type": "code",
   "execution_count": null,
   "metadata": {},
   "outputs": [],
   "source": [
    "# 📥 Datensatz herunterladen und einlesen\n",
    "url = 'https://www.uvek-gis.admin.ch/BFE/ogd/17/ogd17_fuellungsgrad_speicherseen.csv'\n",
    "\n",
    "# CSV-Datei in ein DataFrame laden\n",
    "df = pd.read_csv(url, delimiter=';')\n",
    "\n",
    "# 🔍 Erste fünf Zeilen des Datensatzes anzeigen\n",
    "df.head()"
   ]
  },
  {
   "cell_type": "code",
   "execution_count": null,
   "metadata": {},
   "outputs": [],
   "source": [
    "# 🛠 Spaltennamen und Datenstruktur überprüfen\n",
    "print(\"Spaltennamen:\")\n",
    "print(df.columns)\n",
    "\n",
    "print(\"\\nDatentypen:\")\n",
    "print(df.dtypes)"
   ]
  },
  {
   "cell_type": "code",
   "execution_count": null,
   "metadata": {},
   "outputs": [],
   "source": [
    "# ✨ Datenbereinigung\n",
    "\n",
    "# Spalte \"Datum\" in ein Datetime-Format konvertieren\n",
    "df['Datum'] = pd.to_datetime(df['Datum'], format='%d.%m.%Y')\n",
    "\n",
    "# Prozentzeichen in \"Füllungsgrad in %\" entfernen und als Float speichern\n",
    "df['Füllungsgrad in %'] = df['Füllungsgrad in %'].str.replace('%', '').str.replace(',', '.').astype(float)\n",
    "\n",
    "# \"Energie in GWh\" ebenfalls in einen numerischen Typ umwandeln\n",
    "df['Energie in GWh'] = df['Energie in GWh'].str.replace(',', '.').astype(float)\n",
    "\n",
    "# Übersicht über die bereinigten Daten\n",
    "df.head()"
   ]
  },
  {
   "cell_type": "code",
   "execution_count": null,
   "metadata": {},
   "outputs": [],
   "source": [
    "# 📊 Analyse und Visualisierungen\n",
    "\n",
    "# 1️⃣ Entwicklung des Füllungsgrades über die Zeit\n",
    "# Durchschnittlicher Füllungsgrad pro Datum\n",
    "df_grouped = df.groupby('Datum')['Füllungsgrad in %'].mean().reset_index()\n",
    "\n",
    "# Liniendiagramm erstellen\n",
    "plt.figure(figsize=(12, 6))\n",
    "plt.plot(df_grouped['Datum'], df_grouped['Füllungsgrad in %'], label='Durchschnittlicher Füllungsgrad', color='blue')\n",
    "plt.xlabel('Datum')\n",
    "plt.ylabel('Füllungsgrad in %')\n",
    "plt.title('Entwicklung des durchschnittlichen Füllungsgrades der Schweizer Speicherseen')\n",
    "plt.legend(loc='best')\n",
    "plt.grid(True)\n",
    "plt.show()"
   ]
  },
  {
   "cell_type": "code",
   "execution_count": null,
   "metadata": {},
   "outputs": [],
   "source": [
    "# 2️⃣ Vergleich des Füllungsgrades nach Region\n",
    "# Boxplot erstellen\n",
    "plt.figure(figsize=(12, 6))\n",
    "df.boxplot(column='Füllungsgrad in %', by='Region', grid=False)\n",
    "plt.xlabel('Region')\n",
    "plt.ylabel('Füllungsgrad in %')\n",
    "plt.title('Verteilung des Füllungsgrades nach Region')\n",
    "plt.suptitle('')\n",
    "plt.show()"
   ]
  },
  {
   "cell_type": "markdown",
   "metadata": {},
   "source": [
    "# 🎉 Fazit\n",
    "Herzlichen Glückwunsch! 🎉 Sie haben erfolgreich den Datensatz geladen, bereinigt, analysiert und visualisiert. Experimentieren Sie weiter, um neue Erkenntnisse aus den Daten zu gewinnen! 🚀"
   ]
  }
 ],
 "metadata": {
  "kernelspec": {
   "display_name": "Python 3",
   "language": "python",
   "name": "python3"
  },
  "language_info": {
   "codemirror_mode": {
    "name": "ipython",
    "version": 3
   },
   "file_extension": ".py",
   "mimetype": "text/x-python",
   "name": "python",
   "nbconvert_exporter": "python",
   "pygments_lexer": "ipython3",
   "version": "3.8.5"
  }
 },
 "nbformat": 4,
 "nbformat_minor": 4
}
