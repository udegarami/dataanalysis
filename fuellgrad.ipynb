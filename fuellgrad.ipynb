{
 "cells": [
  {
   "cell_type": "markdown",
   "metadata": {},
   "source": [
    "# Einführung in Python, Pandas und Matplotlib mit dem Füllungsgrad der Schweizer Speicherseen\n",
    "\n",
    "In diesem Notebook analysieren wir den Füllungsgrad der Schweizer Speicherseen mithilfe von Pandas und Matplotlib."
   ]
  },
  {
   "cell_type": "code",
   "execution_count": 1,
   "metadata": {},
   "outputs": [],
   "source": [
    "# Erste Schritte: Bibliotheken importieren\n",
    "import pandas as pd\n",
    "import matplotlib.pyplot as plt\n",
    "import seaborn as sns  # Für schönere Visualisierungen\n",
    "\n",
    "# Stil für Matplotlib einstellen (optional)\n",
    "sns.set_theme()"
   ]
  },
  {
   "cell_type": "markdown",
   "metadata": {},
   "source": [
    "## 📥 Datensatz herunterladen und einlesen"
   ]
  },
  {
   "cell_type": "code",
   "execution_count": 2,
   "metadata": {},
   "outputs": [],
   "source": [
    "url = 'https://www.uvek-gis.admin.ch/BFE/ogd/17/ogd17_fuellungsgrad_speicherseen.csv'\n",
    "\n",
    "# CSV-Datei in ein DataFrame laden\n",
    "df = pd.read_csv(url, delimiter=',')\n",
    "\n",
    "# Erste fünf Zeilen des Datensatzes anzeigen\n",
    "df.head()"
   ]
  },
  {
   "cell_type": "markdown",
   "metadata": {},
   "source": [
    "## 🛠 Spaltennamen und Datenstruktur überprüfen"
   ]
  },
  {
   "cell_type": "code",
   "execution_count": 3,
   "metadata": {},
   "outputs": [],
   "source": [
    "print(\"Spaltennamen:\")\n",
    "print(df.columns)\n",
    "\n",
    "print(\"\\nDatentypen:\")\n",
    "print(df.dtypes)"
   ]
  },
  {
   "cell_type": "markdown",
   "metadata": {},
   "source": [
    "## 🔄 Datenbereinigung"
   ]
  },
  {
   "cell_type": "code",
   "execution_count": 17,
   "metadata": {},
   "outputs": [],
   "source": [
    "# Spalte \"Datum\" in ein Datetime-Format konvertieren\n",
    "df['Datum'] = pd.to_datetime(df['Datum'], format='%Y-%m-%d')\n",
    "\n",
    "# Füllungsgrad in % manuell berechnen\n",
    "df['Füllungsgrad in %'] = (df['TotalCH_speicherinhalt_gwh'] / df['TotalCH_max_speicherinhalt_gwh']) * 100\n",
    "\n",
    "# Berechnung der Gesamtenergie in GWh als Summe der regionalen Speicherinhalte\n",
    "df['Energie in GWh'] = (\n",
    "    df['Wallis_speicherinhalt_gwh'] +\n",
    "    df['Graubuenden_speicherinhalt_gwh'] +\n",
    "    df['Tessin_speicherinhalt_gwh'] +\n",
    "    df['UebrigCH_speicherinhalt_gwh']\n",
    ")\n",
    "\n",
    "# Übersicht über die bereinigten Daten\n",
    "df.head()"
   ]
  },
  {
   "cell_type": "markdown",
   "metadata": {},
   "source": [
    "## 📊 Analysen und Visualisierungen"
   ]
  },
  {
   "cell_type": "markdown",
   "metadata": {},
   "source": [
    "### 🔹 Entwicklung des Füllungsgrades über die Zeit"
   ]
  },
  {
   "cell_type": "code",
   "execution_count": 4,
   "metadata": {},
   "outputs": [],
   "source": [
    "# Durchschnittlicher Füllungsgrad pro Datum\n",
    "df_grouped = df.groupby(['Datum'])['Füllungsgrad in %'].mean().reset_index()\n",
    "\n",
    "# Liniendiagramm erstellen\n",
    "plt.figure(figsize=(12, 6))\n",
    "plt.plot(df_grouped['Datum'], df_grouped['Füllungsgrad in %'], label='Durchschnittlicher Füllungsgrad', color='blue')\n",
    "plt.xlabel('Datum')\n",
    "plt.ylabel('Füllungsgrad in %')\n",
    "plt.title('Entwicklung des durchschnittlichen Füllungsgrades der Schweizer Speicherseen')\n",
    "plt.legend(loc='best')\n",
    "plt.grid(True)\n",
    "plt.show()"
   ]
  },
  {
   "cell_type": "markdown",
   "metadata": {},
   "source": [
    "### 🔹 Vergleich des Füllungsgrades nach Region"
   ]
  },
  {
   "cell_type": "code",
   "execution_count": 5,
   "metadata": {},
   "outputs": [],
   "source": [
    "# DataFrame aufschmelzen\n",
    "df_melted = df.melt(\n",
    "    id_vars=['Datum', 'Füllungsgrad in %'], \n",
    "    value_vars=['Wallis_speicherinhalt_gwh', 'Graubuenden_speicherinhalt_gwh', 'Tessin_speicherinhalt_gwh', 'UebrigCH_speicherinhalt_gwh'],\n",
    "    var_name='Region',\n",
    "    value_name='Speicherinhalt_GWh'\n",
    ")\n",
    "\n",
    "# Regionennamen bereinigen\n",
    "df_melted['Region'] = df_melted['Region'].str.replace('_speicherinhalt_gwh', '')\n",
    "\n",
    "# Ergebnisse anzeigen\n",
    "print(df_melted.head())"
   ]
  },
  {
   "cell_type": "code",
   "execution_count": 6,
   "metadata": {},
   "outputs": [],
   "source": [
    "# Boxplot erstellen\n",
    "plt.figure(figsize=(12, 6))\n",
    "df_melted.boxplot(column='Füllungsgrad in %', by='Region', grid=False)\n",
    "plt.xlabel('Region')\n",
    "plt.ylabel('Füllungsgrad in %')\n",
    "plt.title('Verteilung des Füllungsgrades nach Region')\n",
    "plt.suptitle('')\n",
    "plt.show()"
   ]
  },
  {
   "cell_type": "markdown",
   "metadata": {},
   "source": [
    "## 🎉 Fazit\n",
    "\n",
    "Herzlichen Glückwunsch! 🎉 Sie haben erfolgreich den Datensatz geladen, bereinigt, analysiert und visualisiert. Experimentieren Sie weiter, um neue Erkenntnisse aus den Daten zu gewinnen! 🚀"
   ]
  }
 ],
 "metadata": {
  "kernelspec": {
   "display_name": "Python 3",
   "language": "python",
   "name": "python3"
  },
  "language_info": {
   "codemirror_mode": {
    "name": "ipython",
    "version": 3
   },
   "file_extension": ".py",
   "mimetype": "text/x-python",
   "name": "python",
   "nbconvert_exporter": "python",
   "pygments_lexer": "ipython3",
   "version": "3.9.7"
  }
 },
 "nbformat": 4,
 "nbformat_minor": 5
}
